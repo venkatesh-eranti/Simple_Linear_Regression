{
  "nbformat": 4,
  "nbformat_minor": 0,
  "metadata": {
    "colab": {
      "name": "Regression.ipynb",
      "provenance": [],
      "collapsed_sections": [],
      "authorship_tag": "ABX9TyOSoALSve+n0UOGChPYLcGd",
      "include_colab_link": true
    },
    "kernelspec": {
      "name": "python3",
      "display_name": "Python 3"
    }
  },
  "cells": [
    {
      "cell_type": "markdown",
      "metadata": {
        "id": "view-in-github",
        "colab_type": "text"
      },
      "source": [
        "<a href=\"https://colab.research.google.com/github/venkatesh-eranti/personal_projects/blob/main/Simple%20Linear%20Regression.ipynb\" target=\"_parent\"><img src=\"https://colab.research.google.com/assets/colab-badge.svg\" alt=\"Open In Colab\"/></a>"
      ]
    },
    {
      "cell_type": "markdown",
      "metadata": {
        "id": "DTklV2v30fVU"
      },
      "source": [
        "# Simple Linear Regression"
      ]
    },
    {
      "cell_type": "markdown",
      "metadata": {
        "id": "6aZZDPNN0HVv"
      },
      "source": [
        "Building a simple linear regression model using **adverstising dataset**"
      ]
    },
    {
      "cell_type": "markdown",
      "metadata": {
        "id": "lVwrJf0C0q_E"
      },
      "source": [
        "## Reading and understanding the data"
      ]
    },
    {
      "cell_type": "markdown",
      "metadata": {
        "id": "AlbG_4D-09Gj"
      },
      "source": [
        "### importing the necessary librariers"
      ]
    },
    {
      "cell_type": "code",
      "metadata": {
        "id": "5lG4XjBAdfu7"
      },
      "source": [
        "# to read and understand the data\n",
        "import pandas as pd\n",
        "import numpy as np\n",
        "# to visualise the data\n",
        "import matplotlib.pyplot as plt\n",
        "import seaborn as sns\n",
        "# to split the data\n",
        "from sklearn.model_selection import train_test_split\n",
        "# to model the data\n",
        "import statsmodels.api as sm\n",
        "from sklearn.linear_model import LinearRegression\n",
        "#evaluating the model\n",
        "from statsmodels.stats.outliers_influence import variance_inflation_factor\n",
        "from sklearn.metrics import r2_score,mean_absolute_error,mean_squared_error\n",
        "%matplotlib inline"
      ],
      "execution_count": 28,
      "outputs": []
    },
    {
      "cell_type": "markdown",
      "metadata": {
        "id": "Fnopc1Sf6JC7"
      },
      "source": [
        "### reading the data"
      ]
    },
    {
      "cell_type": "code",
      "metadata": {
        "id": "f2E_roT46CU2",
        "outputId": "6cf572d2-24c6-4ee9-b853-50e956e6afbb",
        "colab": {
          "base_uri": "https://localhost:8080/",
          "height": 198
        }
      },
      "source": [
        "df=pd.read_csv('advertising.csv')\n",
        "df.head()"
      ],
      "execution_count": 5,
      "outputs": [
        {
          "output_type": "execute_result",
          "data": {
            "text/html": [
              "<div>\n",
              "<style scoped>\n",
              "    .dataframe tbody tr th:only-of-type {\n",
              "        vertical-align: middle;\n",
              "    }\n",
              "\n",
              "    .dataframe tbody tr th {\n",
              "        vertical-align: top;\n",
              "    }\n",
              "\n",
              "    .dataframe thead th {\n",
              "        text-align: right;\n",
              "    }\n",
              "</style>\n",
              "<table border=\"1\" class=\"dataframe\">\n",
              "  <thead>\n",
              "    <tr style=\"text-align: right;\">\n",
              "      <th></th>\n",
              "      <th>TV</th>\n",
              "      <th>Radio</th>\n",
              "      <th>Newspaper</th>\n",
              "      <th>Sales</th>\n",
              "    </tr>\n",
              "  </thead>\n",
              "  <tbody>\n",
              "    <tr>\n",
              "      <th>0</th>\n",
              "      <td>230.1</td>\n",
              "      <td>37.8</td>\n",
              "      <td>69.2</td>\n",
              "      <td>22.1</td>\n",
              "    </tr>\n",
              "    <tr>\n",
              "      <th>1</th>\n",
              "      <td>44.5</td>\n",
              "      <td>39.3</td>\n",
              "      <td>45.1</td>\n",
              "      <td>10.4</td>\n",
              "    </tr>\n",
              "    <tr>\n",
              "      <th>2</th>\n",
              "      <td>17.2</td>\n",
              "      <td>45.9</td>\n",
              "      <td>69.3</td>\n",
              "      <td>12.0</td>\n",
              "    </tr>\n",
              "    <tr>\n",
              "      <th>3</th>\n",
              "      <td>151.5</td>\n",
              "      <td>41.3</td>\n",
              "      <td>58.5</td>\n",
              "      <td>16.5</td>\n",
              "    </tr>\n",
              "    <tr>\n",
              "      <th>4</th>\n",
              "      <td>180.8</td>\n",
              "      <td>10.8</td>\n",
              "      <td>58.4</td>\n",
              "      <td>17.9</td>\n",
              "    </tr>\n",
              "  </tbody>\n",
              "</table>\n",
              "</div>"
            ],
            "text/plain": [
              "      TV  Radio  Newspaper  Sales\n",
              "0  230.1   37.8       69.2   22.1\n",
              "1   44.5   39.3       45.1   10.4\n",
              "2   17.2   45.9       69.3   12.0\n",
              "3  151.5   41.3       58.5   16.5\n",
              "4  180.8   10.8       58.4   17.9"
            ]
          },
          "metadata": {
            "tags": []
          },
          "execution_count": 5
        }
      ]
    },
    {
      "cell_type": "markdown",
      "metadata": {
        "id": "p-NIGxgsL8uP"
      },
      "source": [
        "### understanding the structure of data"
      ]
    },
    {
      "cell_type": "code",
      "metadata": {
        "id": "DAiB4HWULr7a",
        "outputId": "b1646945-65bd-4f13-bc80-1bc67a8c27aa",
        "colab": {
          "base_uri": "https://localhost:8080/"
        }
      },
      "source": [
        "df.shape"
      ],
      "execution_count": 6,
      "outputs": [
        {
          "output_type": "execute_result",
          "data": {
            "text/plain": [
              "(200, 4)"
            ]
          },
          "metadata": {
            "tags": []
          },
          "execution_count": 6
        }
      ]
    },
    {
      "cell_type": "code",
      "metadata": {
        "id": "mr34YgDcMAJP",
        "outputId": "59e0ffe3-054b-4b56-eb12-c4bda3495a42",
        "colab": {
          "base_uri": "https://localhost:8080/"
        }
      },
      "source": [
        "df.info()"
      ],
      "execution_count": 7,
      "outputs": [
        {
          "output_type": "stream",
          "text": [
            "<class 'pandas.core.frame.DataFrame'>\n",
            "RangeIndex: 200 entries, 0 to 199\n",
            "Data columns (total 4 columns):\n",
            " #   Column     Non-Null Count  Dtype  \n",
            "---  ------     --------------  -----  \n",
            " 0   TV         200 non-null    float64\n",
            " 1   Radio      200 non-null    float64\n",
            " 2   Newspaper  200 non-null    float64\n",
            " 3   Sales      200 non-null    float64\n",
            "dtypes: float64(4)\n",
            "memory usage: 6.4 KB\n"
          ],
          "name": "stdout"
        }
      ]
    },
    {
      "cell_type": "markdown",
      "metadata": {
        "id": "o3KRc_L1OWB4"
      },
      "source": [
        "shows all are with same data type"
      ]
    },
    {
      "cell_type": "code",
      "metadata": {
        "id": "_zt3Vx0aMCP_",
        "outputId": "8de69f26-b540-4b94-eb65-b9507212271c",
        "colab": {
          "base_uri": "https://localhost:8080/",
          "height": 288
        }
      },
      "source": [
        "df.describe()"
      ],
      "execution_count": 8,
      "outputs": [
        {
          "output_type": "execute_result",
          "data": {
            "text/html": [
              "<div>\n",
              "<style scoped>\n",
              "    .dataframe tbody tr th:only-of-type {\n",
              "        vertical-align: middle;\n",
              "    }\n",
              "\n",
              "    .dataframe tbody tr th {\n",
              "        vertical-align: top;\n",
              "    }\n",
              "\n",
              "    .dataframe thead th {\n",
              "        text-align: right;\n",
              "    }\n",
              "</style>\n",
              "<table border=\"1\" class=\"dataframe\">\n",
              "  <thead>\n",
              "    <tr style=\"text-align: right;\">\n",
              "      <th></th>\n",
              "      <th>TV</th>\n",
              "      <th>Radio</th>\n",
              "      <th>Newspaper</th>\n",
              "      <th>Sales</th>\n",
              "    </tr>\n",
              "  </thead>\n",
              "  <tbody>\n",
              "    <tr>\n",
              "      <th>count</th>\n",
              "      <td>200.000000</td>\n",
              "      <td>200.000000</td>\n",
              "      <td>200.000000</td>\n",
              "      <td>200.000000</td>\n",
              "    </tr>\n",
              "    <tr>\n",
              "      <th>mean</th>\n",
              "      <td>147.042500</td>\n",
              "      <td>23.264000</td>\n",
              "      <td>30.554000</td>\n",
              "      <td>15.130500</td>\n",
              "    </tr>\n",
              "    <tr>\n",
              "      <th>std</th>\n",
              "      <td>85.854236</td>\n",
              "      <td>14.846809</td>\n",
              "      <td>21.778621</td>\n",
              "      <td>5.283892</td>\n",
              "    </tr>\n",
              "    <tr>\n",
              "      <th>min</th>\n",
              "      <td>0.700000</td>\n",
              "      <td>0.000000</td>\n",
              "      <td>0.300000</td>\n",
              "      <td>1.600000</td>\n",
              "    </tr>\n",
              "    <tr>\n",
              "      <th>25%</th>\n",
              "      <td>74.375000</td>\n",
              "      <td>9.975000</td>\n",
              "      <td>12.750000</td>\n",
              "      <td>11.000000</td>\n",
              "    </tr>\n",
              "    <tr>\n",
              "      <th>50%</th>\n",
              "      <td>149.750000</td>\n",
              "      <td>22.900000</td>\n",
              "      <td>25.750000</td>\n",
              "      <td>16.000000</td>\n",
              "    </tr>\n",
              "    <tr>\n",
              "      <th>75%</th>\n",
              "      <td>218.825000</td>\n",
              "      <td>36.525000</td>\n",
              "      <td>45.100000</td>\n",
              "      <td>19.050000</td>\n",
              "    </tr>\n",
              "    <tr>\n",
              "      <th>max</th>\n",
              "      <td>296.400000</td>\n",
              "      <td>49.600000</td>\n",
              "      <td>114.000000</td>\n",
              "      <td>27.000000</td>\n",
              "    </tr>\n",
              "  </tbody>\n",
              "</table>\n",
              "</div>"
            ],
            "text/plain": [
              "               TV       Radio   Newspaper       Sales\n",
              "count  200.000000  200.000000  200.000000  200.000000\n",
              "mean   147.042500   23.264000   30.554000   15.130500\n",
              "std     85.854236   14.846809   21.778621    5.283892\n",
              "min      0.700000    0.000000    0.300000    1.600000\n",
              "25%     74.375000    9.975000   12.750000   11.000000\n",
              "50%    149.750000   22.900000   25.750000   16.000000\n",
              "75%    218.825000   36.525000   45.100000   19.050000\n",
              "max    296.400000   49.600000  114.000000   27.000000"
            ]
          },
          "metadata": {
            "tags": []
          },
          "execution_count": 8
        }
      ]
    },
    {
      "cell_type": "markdown",
      "metadata": {
        "id": "rRORg1lQOTDx"
      },
      "source": [
        "seems there are no missing values"
      ]
    },
    {
      "cell_type": "markdown",
      "metadata": {
        "id": "2DzOBVAmM6LQ"
      },
      "source": [
        "## Cleaning the data"
      ]
    },
    {
      "cell_type": "markdown",
      "metadata": {
        "id": "quzTU9ZBM9Lf"
      },
      "source": [
        "\n",
        "\n",
        "1.   Identify the data types $\\rightarrow$ seems all values are having same data type of float\n",
        "2.   Imputing/ removing missing values $\\rightarrow$ seems there are no missing values\n",
        "3.   Handling Outliers $\\rightarrow$ need to check now\n",
        "4.   Standardising the data $\\rightarrow$ as all the data is in numerical values there is no need to standardise the data"
      ]
    },
    {
      "cell_type": "markdown",
      "metadata": {
        "id": "sV5lo8ZIPUCx"
      },
      "source": [
        "### checking for outliers in the data"
      ]
    },
    {
      "cell_type": "code",
      "metadata": {
        "id": "b_GqB_ceMsI6",
        "outputId": "da5c324e-ac46-4a17-f6e7-05618eda4e8d",
        "colab": {
          "base_uri": "https://localhost:8080/",
          "height": 379
        }
      },
      "source": [
        "df.describe(percentiles=[0.25,0.5,0.75,0.9,0.95,0.99])"
      ],
      "execution_count": 10,
      "outputs": [
        {
          "output_type": "execute_result",
          "data": {
            "text/html": [
              "<div>\n",
              "<style scoped>\n",
              "    .dataframe tbody tr th:only-of-type {\n",
              "        vertical-align: middle;\n",
              "    }\n",
              "\n",
              "    .dataframe tbody tr th {\n",
              "        vertical-align: top;\n",
              "    }\n",
              "\n",
              "    .dataframe thead th {\n",
              "        text-align: right;\n",
              "    }\n",
              "</style>\n",
              "<table border=\"1\" class=\"dataframe\">\n",
              "  <thead>\n",
              "    <tr style=\"text-align: right;\">\n",
              "      <th></th>\n",
              "      <th>TV</th>\n",
              "      <th>Radio</th>\n",
              "      <th>Newspaper</th>\n",
              "      <th>Sales</th>\n",
              "    </tr>\n",
              "  </thead>\n",
              "  <tbody>\n",
              "    <tr>\n",
              "      <th>count</th>\n",
              "      <td>200.000000</td>\n",
              "      <td>200.000000</td>\n",
              "      <td>200.000000</td>\n",
              "      <td>200.000000</td>\n",
              "    </tr>\n",
              "    <tr>\n",
              "      <th>mean</th>\n",
              "      <td>147.042500</td>\n",
              "      <td>23.264000</td>\n",
              "      <td>30.554000</td>\n",
              "      <td>15.130500</td>\n",
              "    </tr>\n",
              "    <tr>\n",
              "      <th>std</th>\n",
              "      <td>85.854236</td>\n",
              "      <td>14.846809</td>\n",
              "      <td>21.778621</td>\n",
              "      <td>5.283892</td>\n",
              "    </tr>\n",
              "    <tr>\n",
              "      <th>min</th>\n",
              "      <td>0.700000</td>\n",
              "      <td>0.000000</td>\n",
              "      <td>0.300000</td>\n",
              "      <td>1.600000</td>\n",
              "    </tr>\n",
              "    <tr>\n",
              "      <th>25%</th>\n",
              "      <td>74.375000</td>\n",
              "      <td>9.975000</td>\n",
              "      <td>12.750000</td>\n",
              "      <td>11.000000</td>\n",
              "    </tr>\n",
              "    <tr>\n",
              "      <th>50%</th>\n",
              "      <td>149.750000</td>\n",
              "      <td>22.900000</td>\n",
              "      <td>25.750000</td>\n",
              "      <td>16.000000</td>\n",
              "    </tr>\n",
              "    <tr>\n",
              "      <th>75%</th>\n",
              "      <td>218.825000</td>\n",
              "      <td>36.525000</td>\n",
              "      <td>45.100000</td>\n",
              "      <td>19.050000</td>\n",
              "    </tr>\n",
              "    <tr>\n",
              "      <th>90%</th>\n",
              "      <td>261.440000</td>\n",
              "      <td>43.520000</td>\n",
              "      <td>59.070000</td>\n",
              "      <td>21.710000</td>\n",
              "    </tr>\n",
              "    <tr>\n",
              "      <th>95%</th>\n",
              "      <td>280.735000</td>\n",
              "      <td>46.810000</td>\n",
              "      <td>71.825000</td>\n",
              "      <td>23.800000</td>\n",
              "    </tr>\n",
              "    <tr>\n",
              "      <th>99%</th>\n",
              "      <td>292.907000</td>\n",
              "      <td>49.400000</td>\n",
              "      <td>89.515000</td>\n",
              "      <td>25.507000</td>\n",
              "    </tr>\n",
              "    <tr>\n",
              "      <th>max</th>\n",
              "      <td>296.400000</td>\n",
              "      <td>49.600000</td>\n",
              "      <td>114.000000</td>\n",
              "      <td>27.000000</td>\n",
              "    </tr>\n",
              "  </tbody>\n",
              "</table>\n",
              "</div>"
            ],
            "text/plain": [
              "               TV       Radio   Newspaper       Sales\n",
              "count  200.000000  200.000000  200.000000  200.000000\n",
              "mean   147.042500   23.264000   30.554000   15.130500\n",
              "std     85.854236   14.846809   21.778621    5.283892\n",
              "min      0.700000    0.000000    0.300000    1.600000\n",
              "25%     74.375000    9.975000   12.750000   11.000000\n",
              "50%    149.750000   22.900000   25.750000   16.000000\n",
              "75%    218.825000   36.525000   45.100000   19.050000\n",
              "90%    261.440000   43.520000   59.070000   21.710000\n",
              "95%    280.735000   46.810000   71.825000   23.800000\n",
              "99%    292.907000   49.400000   89.515000   25.507000\n",
              "max    296.400000   49.600000  114.000000   27.000000"
            ]
          },
          "metadata": {
            "tags": []
          },
          "execution_count": 10
        }
      ]
    },
    {
      "cell_type": "markdown",
      "metadata": {
        "id": "NWyxzbLvPxXY"
      },
      "source": [
        "seems there is some outlier in newspaper columns.<br>\n",
        "lets check the same by plotting box plot"
      ]
    },
    {
      "cell_type": "code",
      "metadata": {
        "id": "6Qse-NmtPfMh",
        "outputId": "05372f34-4519-4c82-aceb-a0093b9358e0",
        "colab": {
          "base_uri": "https://localhost:8080/",
          "height": 333
        }
      },
      "source": [
        "sns.boxplot(df['TV']);"
      ],
      "execution_count": 36,
      "outputs": [
        {
          "output_type": "stream",
          "text": [
            "/usr/local/lib/python3.6/dist-packages/seaborn/_decorators.py:43: FutureWarning: Pass the following variable as a keyword arg: x. From version 0.12, the only valid positional argument will be `data`, and passing other arguments without an explicit keyword will result in an error or misinterpretation.\n",
            "  FutureWarning\n"
          ],
          "name": "stderr"
        },
        {
          "output_type": "display_data",
          "data": {
            "image/png": "[encoded data removed]",
            "text/plain": [
              "<Figure size 432x288 with 1 Axes>"
            ]
          },
          "metadata": {
            "tags": [],
            "needs_background": "light"
          }
        }
      ]
    },
    {
      "cell_type": "code",
      "metadata": {
        "id": "xvpB537JQN2w",
        "outputId": "cc49cb84-1e43-45c8-e8f7-ff79407d2899",
        "colab": {
          "base_uri": "https://localhost:8080/",
          "height": 351
        }
      },
      "source": [
        "sns.boxplot(df['Radio'])"
      ],
      "execution_count": 37,
      "outputs": [
        {
          "output_type": "stream",
          "text": [
            "/usr/local/lib/python3.6/dist-packages/seaborn/_decorators.py:43: FutureWarning: Pass the following variable as a keyword arg: x. From version 0.12, the only valid positional argument will be `data`, and passing other arguments without an explicit keyword will result in an error or misinterpretation.\n",
            "  FutureWarning\n"
          ],
          "name": "stderr"
        },
        {
          "output_type": "execute_result",
          "data": {
            "text/plain": [
              "<matplotlib.axes._subplots.AxesSubplot at 0x7fc4ff7da780>"
            ]
          },
          "metadata": {
            "tags": []
          },
          "execution_count": 37
        },
        {
          "output_type": "display_data",
          "data": {
            "image/png": "[encoded data removed]",
            "text/plain": [
              "<Figure size 432x288 with 1 Axes>"
            ]
          },
          "metadata": {
            "tags": [],
            "needs_background": "light"
          }
        }
      ]
    },
    {
      "cell_type": "code",
      "metadata": {
        "id": "cjnBwwCGSyvZ",
        "outputId": "acd1f14c-daf2-41aa-e58c-5ef1b21d1177",
        "colab": {
          "base_uri": "https://localhost:8080/",
          "height": 351
        }
      },
      "source": [
        "sns.boxplot(df['Newspaper'])"
      ],
      "execution_count": 38,
      "outputs": [
        {
          "output_type": "stream",
          "text": [
            "/usr/local/lib/python3.6/dist-packages/seaborn/_decorators.py:43: FutureWarning: Pass the following variable as a keyword arg: x. From version 0.12, the only valid positional argument will be `data`, and passing other arguments without an explicit keyword will result in an error or misinterpretation.\n",
            "  FutureWarning\n"
          ],
          "name": "stderr"
        },
        {
          "output_type": "execute_result",
          "data": {
            "text/plain": [
              "<matplotlib.axes._subplots.AxesSubplot at 0x7fc4fe9d3ef0>"
            ]
          },
          "metadata": {
            "tags": []
          },
          "execution_count": 38
        },
        {
          "output_type": "display_data",
          "data": {
            "image/png": "[encoded data removed]",
            "text/plain": [
              "<Figure size 432x288 with 1 Axes>"
            ]
          },
          "metadata": {
            "tags": [],
            "needs_background": "light"
          }
        }
      ]
    },
    {
      "cell_type": "markdown",
      "metadata": {
        "id": "1Y9knJO0S-K6"
      },
      "source": [
        "visibly those 2 values are outliers. but let's check how far those are away from Normal standard deviation"
      ]
    },
    {
      "cell_type": "code",
      "metadata": {
        "id": "PA-6a5M_TfQI",
        "outputId": "c3a6e2ea-63b9-4e52-b0f2-e2882bd0d4c8",
        "colab": {
          "base_uri": "https://localhost:8080/",
          "height": 108
        }
      },
      "source": [
        "df[df['Newspaper']>90]"
      ],
      "execution_count": 41,
      "outputs": [
        {
          "output_type": "execute_result",
          "data": {
            "text/html": [
              "<div>\n",
              "<style scoped>\n",
              "    .dataframe tbody tr th:only-of-type {\n",
              "        vertical-align: middle;\n",
              "    }\n",
              "\n",
              "    .dataframe tbody tr th {\n",
              "        vertical-align: top;\n",
              "    }\n",
              "\n",
              "    .dataframe thead th {\n",
              "        text-align: right;\n",
              "    }\n",
              "</style>\n",
              "<table border=\"1\" class=\"dataframe\">\n",
              "  <thead>\n",
              "    <tr style=\"text-align: right;\">\n",
              "      <th></th>\n",
              "      <th>TV</th>\n",
              "      <th>Radio</th>\n",
              "      <th>Newspaper</th>\n",
              "      <th>Sales</th>\n",
              "    </tr>\n",
              "  </thead>\n",
              "  <tbody>\n",
              "    <tr>\n",
              "      <th>16</th>\n",
              "      <td>67.8</td>\n",
              "      <td>36.6</td>\n",
              "      <td>114.0</td>\n",
              "      <td>12.5</td>\n",
              "    </tr>\n",
              "    <tr>\n",
              "      <th>101</th>\n",
              "      <td>296.4</td>\n",
              "      <td>36.3</td>\n",
              "      <td>100.9</td>\n",
              "      <td>23.8</td>\n",
              "    </tr>\n",
              "  </tbody>\n",
              "</table>\n",
              "</div>"
            ],
            "text/plain": [
              "        TV  Radio  Newspaper  Sales\n",
              "16    67.8   36.6      114.0   12.5\n",
              "101  296.4   36.3      100.9   23.8"
            ]
          },
          "metadata": {
            "tags": []
          },
          "execution_count": 41
        }
      ]
    },
    {
      "cell_type": "code",
      "metadata": {
        "id": "t0-oARq7S9u4",
        "outputId": "81dac401-6d77-4f9d-dc54-ad4d6ffc4bd2",
        "colab": {
          "base_uri": "https://localhost:8080/"
        }
      },
      "source": [
        "mean=np.mean(df['Newspaper'])\n",
        "std=np.std(df['Newspaper'])\n",
        "# check for 1 standard deviation\n",
        "mean+(3*std)"
      ],
      "execution_count": 44,
      "outputs": [
        {
          "output_type": "execute_result",
          "data": {
            "text/plain": [
              "95.72631817267208"
            ]
          },
          "metadata": {
            "tags": []
          },
          "execution_count": 44
        }
      ]
    },
    {
      "cell_type": "markdown",
      "metadata": {
        "id": "_LPDUBtqVb3b"
      },
      "source": [
        "clearly the above two values are more than 3 standard deviations away.<br>\n",
        "so we can consider those as outliers and imput the mean values instead of those"
      ]
    },
    {
      "cell_type": "code",
      "metadata": {
        "id": "7xtPSVCvVPKv"
      },
      "source": [
        "df['Newspaper'][df['Newspaper']>90]=mean"
      ],
      "execution_count": 52,
      "outputs": []
    },
    {
      "cell_type": "code",
      "metadata": {
        "id": "x-shBZ3wV4D6",
        "outputId": "1aaf769a-5785-4300-f820-c58e89d8e556",
        "colab": {
          "base_uri": "https://localhost:8080/",
          "height": 351
        }
      },
      "source": [
        "sns.boxplot(df['Newspaper'])"
      ],
      "execution_count": 53,
      "outputs": [
        {
          "output_type": "stream",
          "text": [
            "/usr/local/lib/python3.6/dist-packages/seaborn/_decorators.py:43: FutureWarning: Pass the following variable as a keyword arg: x. From version 0.12, the only valid positional argument will be `data`, and passing other arguments without an explicit keyword will result in an error or misinterpretation.\n",
            "  FutureWarning\n"
          ],
          "name": "stderr"
        },
        {
          "output_type": "execute_result",
          "data": {
            "text/plain": [
              "<matplotlib.axes._subplots.AxesSubplot at 0x7fc4fec094a8>"
            ]
          },
          "metadata": {
            "tags": []
          },
          "execution_count": 53
        },
        {
          "output_type": "display_data",
          "data": {
            "image/png": "[encoded data removed]",
            "text/plain": [
              "<Figure size 432x288 with 1 Axes>"
            ]
          },
          "metadata": {
            "tags": [],
            "needs_background": "light"
          }
        }
      ]
    },
    {
      "cell_type": "markdown",
      "metadata": {
        "id": "FgTGmsR0ak1y"
      },
      "source": [
        "## Exploratort Data Analysis"
      ]
    },
    {
      "cell_type": "markdown",
      "metadata": {
        "id": "QhRzGUSJapQ4"
      },
      "source": [
        "### checking the relations of each features with respect to **sales**"
      ]
    },
    {
      "cell_type": "code",
      "metadata": {
        "id": "YIIC1Dk9an1Q",
        "outputId": "543a5293-6ef3-49ee-d989-6b1213b6b7f4",
        "colab": {
          "base_uri": "https://localhost:8080/",
          "height": 726
        }
      },
      "source": [
        "sns.pairplot(df,diag_kind='kde');"
      ],
      "execution_count": 56,
      "outputs": [
        {
          "output_type": "display_data",
          "data": {
            "image/png": "[encoded data removed]",
            "text/plain": [
              "<Figure size 720x720 with 20 Axes>"
            ]
          },
          "metadata": {
            "tags": [],
            "needs_background": "light"
          }
        }
      ]
    },
    {
      "cell_type": "markdown",
      "metadata": {
        "id": "ZnB5TZSllNVZ"
      },
      "source": [
        "### observations"
      ]
    },
    {
      "cell_type": "markdown",
      "metadata": {
        "id": "MzpK6a_xlXj6"
      },
      "source": [
        "from above pairplot i can see only TV is following Linear distrubution and radio and Newspaer data are randomly scattered"
      ]
    },
    {
      "cell_type": "markdown",
      "metadata": {
        "id": "xGDNBzOpg8px"
      },
      "source": [
        "As i can see bimodal distribution for both dependent (sales) and independent variables (tv and radio). <br>\n",
        "my hunch is residuals will be skewed\n",
        "seems data came from 2 different sources or typo's <br>\n",
        "[how to deal with Bimodal distrubution](https://www.researchgate.net/post/How_can_we_deal_with_bimodal_variables) we should use maximum likelihood by the (Expectation-Maximization) EM algorithm"
      ]
    },
    {
      "cell_type": "markdown",
      "metadata": {
        "id": "EJwg-6keknFU"
      },
      "source": [
        "due to this bimodal distribution of data we will get mean at different locations"
      ]
    },
    {
      "cell_type": "code",
      "metadata": {
        "id": "NCE3a-a9a1EB",
        "outputId": "62c7647e-2fe1-46ca-d695-8acac7e1733a",
        "colab": {
          "base_uri": "https://localhost:8080/",
          "height": 296
        }
      },
      "source": [
        "sns.kdeplot(df['TV'])\n",
        "plt.axvline(df['TV'].mean(),color='red')"
      ],
      "execution_count": 65,
      "outputs": [
        {
          "output_type": "execute_result",
          "data": {
            "text/plain": [
              "<matplotlib.lines.Line2D at 0x7fc4fafb5240>"
            ]
          },
          "metadata": {
            "tags": []
          },
          "execution_count": 65
        },
        {
          "output_type": "display_data",
          "data": {
            "image/png": "[encoded data removed]",
            "text/plain": [
              "<Figure size 432x288 with 1 Axes>"
            ]
          },
          "metadata": {
            "tags": [],
            "needs_background": "light"
          }
        }
      ]
    },
    {
      "cell_type": "code",
      "metadata": {
        "id": "8G1ydmxKfqAw",
        "outputId": "0ab53769-8c6e-43fb-fafc-0b73d421850d",
        "colab": {
          "base_uri": "https://localhost:8080/",
          "height": 296
        }
      },
      "source": [
        "sns.kdeplot(df['Newspaper'])\n",
        "plt.axvline(df['Newspaper'].mean(),color='red')"
      ],
      "execution_count": 66,
      "outputs": [
        {
          "output_type": "execute_result",
          "data": {
            "text/plain": [
              "<matplotlib.lines.Line2D at 0x7fc4fb1cec18>"
            ]
          },
          "metadata": {
            "tags": []
          },
          "execution_count": 66
        },
        {
          "output_type": "display_data",
          "data": {
            "image/png": "[encoded data removed]",
            "text/plain": [
              "<Figure size 432x288 with 1 Axes>"
            ]
          },
          "metadata": {
            "tags": [],
            "needs_background": "light"
          }
        }
      ]
    },
    {
      "cell_type": "code",
      "metadata": {
        "id": "9JbxBxYagbLq",
        "outputId": "b24f552c-1510-449d-c361-a9f7d31e33e5",
        "colab": {
          "base_uri": "https://localhost:8080/",
          "height": 296
        }
      },
      "source": [
        "sns.kdeplot(df['Radio'])\n",
        "plt.axvline(df['Radio'].mean(),color='red')"
      ],
      "execution_count": 67,
      "outputs": [
        {
          "output_type": "execute_result",
          "data": {
            "text/plain": [
              "<matplotlib.lines.Line2D at 0x7fc4fb76b438>"
            ]
          },
          "metadata": {
            "tags": []
          },
          "execution_count": 67
        },
        {
          "output_type": "display_data",
          "data": {
            "image/png": "[encoded data removed]",
            "text/plain": [
              "<Figure size 432x288 with 1 Axes>"
            ]
          },
          "metadata": {
            "tags": [],
            "needs_background": "light"
          }
        }
      ]
    },
    {
      "cell_type": "markdown",
      "metadata": {
        "id": "REe9L7w7lwsZ"
      },
      "source": [
        "### checking the correlation of features by using Heatmap"
      ]
    },
    {
      "cell_type": "code",
      "metadata": {
        "id": "m8ipI78gl2hI",
        "outputId": "87e06e4c-8f7b-4655-bb0c-3f3cd7fea242",
        "colab": {
          "base_uri": "https://localhost:8080/",
          "height": 286
        }
      },
      "source": [
        "sns.heatmap(df.corr(),annot=True,center=0.5)"
      ],
      "execution_count": 71,
      "outputs": [
        {
          "output_type": "execute_result",
          "data": {
            "text/plain": [
              "<matplotlib.axes._subplots.AxesSubplot at 0x7fc4fb3f2470>"
            ]
          },
          "metadata": {
            "tags": []
          },
          "execution_count": 71
        },
        {
          "output_type": "display_data",
          "data": {
            "image/png": "[encoded data removed]",
            "text/plain": [
              "<Figure size 432x288 with 2 Axes>"
            ]
          },
          "metadata": {
            "tags": [],
            "needs_background": "light"
          }
        }
      ]
    },
    {
      "cell_type": "markdown",
      "metadata": {
        "id": "5nzuG5YKnmEA"
      },
      "source": [
        "## splitting the model in to Train and test data"
      ]
    },
    {
      "cell_type": "code",
      "metadata": {
        "id": "c7Y5mJ29nqCZ"
      },
      "source": [
        "x=df.drop('Sales',axis=1)\n",
        "y=df['Sales']"
      ],
      "execution_count": 74,
      "outputs": []
    },
    {
      "cell_type": "code",
      "metadata": {
        "id": "C2cS1YTPnxN5"
      },
      "source": [
        "x_train,x_test,y_train,y_test=train_test_split(x,y,train_size=0.8)"
      ],
      "execution_count": 77,
      "outputs": []
    },
    {
      "cell_type": "code",
      "metadata": {
        "id": "c7Mingvhn2X5",
        "outputId": "95ab05ee-78b6-45f8-d7a2-ec4518ff97dd",
        "colab": {
          "base_uri": "https://localhost:8080/"
        }
      },
      "source": [
        "x_train.shape,x_test.shape,y_train.shape,y_test.shape"
      ],
      "execution_count": 117,
      "outputs": [
        {
          "output_type": "execute_result",
          "data": {
            "text/plain": [
              "((160, 3), (40, 3), (160,), (40,))"
            ]
          },
          "metadata": {
            "tags": []
          },
          "execution_count": 117
        }
      ]
    },
    {
      "cell_type": "markdown",
      "metadata": {
        "id": "3SrDAXAXm2SU"
      },
      "source": [
        "## building a Simple Linear Regression model"
      ]
    },
    {
      "cell_type": "markdown",
      "metadata": {
        "id": "RG9nhHgonExB"
      },
      "source": [
        "### by using statsmodels"
      ]
    },
    {
      "cell_type": "markdown",
      "metadata": {
        "id": "7lMoudYsnjWV"
      },
      "source": [
        "#### statsmodels for TV"
      ]
    },
    {
      "cell_type": "code",
      "metadata": {
        "id": "sm-k2kkyl5hS"
      },
      "source": [
        "x_train_sm=sm.add_constant(x_train['TV'])"
      ],
      "execution_count": 167,
      "outputs": []
    },
    {
      "cell_type": "code",
      "metadata": {
        "id": "SpI3d6a7nDex",
        "outputId": "eee89ce8-e028-4a2c-d8a5-a8b8bf643c4b",
        "colab": {
          "base_uri": "https://localhost:8080/",
          "height": 437
        }
      },
      "source": [
        "lin_tv=sm.OLS(y_train,x_train_sm).fit()\n",
        "lin_tv.summary()"
      ],
      "execution_count": 168,
      "outputs": [
        {
          "output_type": "execute_result",
          "data": {
            "text/html": [
              "<table class=\"simpletable\">\n",
              "<caption>OLS Regression Results</caption>\n",
              "<tr>\n",
              "  <th>Dep. Variable:</th>          <td>Sales</td>      <th>  R-squared:         </th> <td>   0.798</td>\n",
              "</tr>\n",
              "<tr>\n",
              "  <th>Model:</th>                   <td>OLS</td>       <th>  Adj. R-squared:    </th> <td>   0.796</td>\n",
              "</tr>\n",
              "<tr>\n",
              "  <th>Method:</th>             <td>Least Squares</td>  <th>  F-statistic:       </th> <td>   622.8</td>\n",
              "</tr>\n",
              "<tr>\n",
              "  <th>Date:</th>             <td>Tue, 10 Nov 2020</td> <th>  Prob (F-statistic):</th> <td>1.09e-56</td>\n",
              "</tr>\n",
              "<tr>\n",
              "  <th>Time:</th>                 <td>11:14:11</td>     <th>  Log-Likelihood:    </th> <td> -362.99</td>\n",
              "</tr>\n",
              "<tr>\n",
              "  <th>No. Observations:</th>      <td>   160</td>      <th>  AIC:               </th> <td>   730.0</td>\n",
              "</tr>\n",
              "<tr>\n",
              "  <th>Df Residuals:</th>          <td>   158</td>      <th>  BIC:               </th> <td>   736.1</td>\n",
              "</tr>\n",
              "<tr>\n",
              "  <th>Df Model:</th>              <td>     1</td>      <th>                     </th>     <td> </td>   \n",
              "</tr>\n",
              "<tr>\n",
              "  <th>Covariance Type:</th>      <td>nonrobust</td>    <th>                     </th>     <td> </td>   \n",
              "</tr>\n",
              "</table>\n",
              "<table class=\"simpletable\">\n",
              "<tr>\n",
              "    <td></td>       <th>coef</th>     <th>std err</th>      <th>t</th>      <th>P>|t|</th>  <th>[0.025</th>    <th>0.975]</th>  \n",
              "</tr>\n",
              "<tr>\n",
              "  <th>const</th> <td>    7.0281</td> <td>    0.378</td> <td>   18.588</td> <td> 0.000</td> <td>    6.281</td> <td>    7.775</td>\n",
              "</tr>\n",
              "<tr>\n",
              "  <th>TV</th>    <td>    0.0554</td> <td>    0.002</td> <td>   24.955</td> <td> 0.000</td> <td>    0.051</td> <td>    0.060</td>\n",
              "</tr>\n",
              "</table>\n",
              "<table class=\"simpletable\">\n",
              "<tr>\n",
              "  <th>Omnibus:</th>       <td> 0.509</td> <th>  Durbin-Watson:     </th> <td>   2.060</td>\n",
              "</tr>\n",
              "<tr>\n",
              "  <th>Prob(Omnibus):</th> <td> 0.775</td> <th>  Jarque-Bera (JB):  </th> <td>   0.516</td>\n",
              "</tr>\n",
              "<tr>\n",
              "  <th>Skew:</th>          <td>-0.133</td> <th>  Prob(JB):          </th> <td>   0.773</td>\n",
              "</tr>\n",
              "<tr>\n",
              "  <th>Kurtosis:</th>      <td> 2.918</td> <th>  Cond. No.          </th> <td>    346.</td>\n",
              "</tr>\n",
              "</table><br/><br/>Warnings:<br/>[1] Standard Errors assume that the covariance matrix of the errors is correctly specified."
            ],
            "text/plain": [
              "<class 'statsmodels.iolib.summary.Summary'>\n",
              "\"\"\"\n",
              "                            OLS Regression Results                            \n",
              "==============================================================================\n",
              "Dep. Variable:                  Sales   R-squared:                       0.798\n",
              "Model:                            OLS   Adj. R-squared:                  0.796\n",
              "Method:                 Least Squares   F-statistic:                     622.8\n",
              "Date:                Tue, 10 Nov 2020   Prob (F-statistic):           1.09e-56\n",
              "Time:                        11:14:11   Log-Likelihood:                -362.99\n",
              "No. Observations:                 160   AIC:                             730.0\n",
              "Df Residuals:                     158   BIC:                             736.1\n",
              "Df Model:                           1                                         \n",
              "Covariance Type:            nonrobust                                         \n",
              "==============================================================================\n",
              "                 coef    std err          t      P>|t|      [0.025      0.975]\n",
              "------------------------------------------------------------------------------\n",
              "const          7.0281      0.378     18.588      0.000       6.281       7.775\n",
              "TV             0.0554      0.002     24.955      0.000       0.051       0.060\n",
              "==============================================================================\n",
              "Omnibus:                        0.509   Durbin-Watson:                   2.060\n",
              "Prob(Omnibus):                  0.775   Jarque-Bera (JB):                0.516\n",
              "Skew:                          -0.133   Prob(JB):                        0.773\n",
              "Kurtosis:                       2.918   Cond. No.                         346.\n",
              "==============================================================================\n",
              "\n",
              "Warnings:\n",
              "[1] Standard Errors assume that the covariance matrix of the errors is correctly specified.\n",
              "\"\"\""
            ]
          },
          "metadata": {
            "tags": []
          },
          "execution_count": 168
        }
      ]
    },
    {
      "cell_type": "markdown",
      "metadata": {
        "id": "qEfD6DAUymqY"
      },
      "source": [
        "#### interpretting TV variable"
      ]
    },
    {
      "cell_type": "markdown",
      "metadata": {
        "id": "TWEAdmHJysRU"
      },
      "source": [
        "1) $R^2$=0.798 means model explains 79 % of variation in the data <br>\n",
        "2) Prob(F-statistic) < 0.05 means fit is not by chance & overall model is significant\n",
        "3) P-value < 0.05 means TV coefficient is significant"
      ]
    },
    {
      "cell_type": "markdown",
      "metadata": {
        "id": "4qJQnPHIzvFx"
      },
      "source": [
        "if a company is not having any advertisements in TV also we predict the sales will be 7.02 and for each additional TV advertisment we predict the sales of tv will raise by 0.05 units"
      ]
    },
    {
      "cell_type": "markdown",
      "metadata": {
        "id": "XdmzBGKCoYeI"
      },
      "source": [
        "#### stasmodels for Radio"
      ]
    },
    {
      "cell_type": "code",
      "metadata": {
        "id": "P5vwr3xXoL8U",
        "outputId": "266612b2-a791-4a8c-d851-d511e484b6d5",
        "colab": {
          "base_uri": "https://localhost:8080/",
          "height": 437
        }
      },
      "source": [
        "x=x_train['Radio']\n",
        "y=y_train\n",
        "sm.OLS(y,sm.add_constant(x)).fit().summary()"
      ],
      "execution_count": 83,
      "outputs": [
        {
          "output_type": "execute_result",
          "data": {
            "text/html": [
              "<table class=\"simpletable\">\n",
              "<caption>OLS Regression Results</caption>\n",
              "<tr>\n",
              "  <th>Dep. Variable:</th>          <td>Sales</td>      <th>  R-squared:         </th> <td>   0.098</td>\n",
              "</tr>\n",
              "<tr>\n",
              "  <th>Model:</th>                   <td>OLS</td>       <th>  Adj. R-squared:    </th> <td>   0.093</td>\n",
              "</tr>\n",
              "<tr>\n",
              "  <th>Method:</th>             <td>Least Squares</td>  <th>  F-statistic:       </th> <td>   17.25</td>\n",
              "</tr>\n",
              "<tr>\n",
              "  <th>Date:</th>             <td>Tue, 10 Nov 2020</td> <th>  Prob (F-statistic):</th> <td>5.35e-05</td>\n",
              "</tr>\n",
              "<tr>\n",
              "  <th>Time:</th>                 <td>10:09:42</td>     <th>  Log-Likelihood:    </th> <td> -482.51</td>\n",
              "</tr>\n",
              "<tr>\n",
              "  <th>No. Observations:</th>      <td>   160</td>      <th>  AIC:               </th> <td>   969.0</td>\n",
              "</tr>\n",
              "<tr>\n",
              "  <th>Df Residuals:</th>          <td>   158</td>      <th>  BIC:               </th> <td>   975.2</td>\n",
              "</tr>\n",
              "<tr>\n",
              "  <th>Df Model:</th>              <td>     1</td>      <th>                     </th>     <td> </td>   \n",
              "</tr>\n",
              "<tr>\n",
              "  <th>Covariance Type:</th>      <td>nonrobust</td>    <th>                     </th>     <td> </td>   \n",
              "</tr>\n",
              "</table>\n",
              "<table class=\"simpletable\">\n",
              "<tr>\n",
              "    <td></td>       <th>coef</th>     <th>std err</th>      <th>t</th>      <th>P>|t|</th>  <th>[0.025</th>    <th>0.975]</th>  \n",
              "</tr>\n",
              "<tr>\n",
              "  <th>const</th> <td>   12.6115</td> <td>    0.745</td> <td>   16.923</td> <td> 0.000</td> <td>   11.140</td> <td>   14.083</td>\n",
              "</tr>\n",
              "<tr>\n",
              "  <th>Radio</th> <td>    0.1110</td> <td>    0.027</td> <td>    4.153</td> <td> 0.000</td> <td>    0.058</td> <td>    0.164</td>\n",
              "</tr>\n",
              "</table>\n",
              "<table class=\"simpletable\">\n",
              "<tr>\n",
              "  <th>Omnibus:</th>       <td> 7.114</td> <th>  Durbin-Watson:     </th> <td>   2.241</td>\n",
              "</tr>\n",
              "<tr>\n",
              "  <th>Prob(Omnibus):</th> <td> 0.029</td> <th>  Jarque-Bera (JB):  </th> <td>   6.560</td>\n",
              "</tr>\n",
              "<tr>\n",
              "  <th>Skew:</th>          <td>-0.431</td> <th>  Prob(JB):          </th> <td>  0.0376</td>\n",
              "</tr>\n",
              "<tr>\n",
              "  <th>Kurtosis:</th>      <td> 2.511</td> <th>  Cond. No.          </th> <td>    52.9</td>\n",
              "</tr>\n",
              "</table><br/><br/>Warnings:<br/>[1] Standard Errors assume that the covariance matrix of the errors is correctly specified."
            ],
            "text/plain": [
              "<class 'statsmodels.iolib.summary.Summary'>\n",
              "\"\"\"\n",
              "                            OLS Regression Results                            \n",
              "==============================================================================\n",
              "Dep. Variable:                  Sales   R-squared:                       0.098\n",
              "Model:                            OLS   Adj. R-squared:                  0.093\n",
              "Method:                 Least Squares   F-statistic:                     17.25\n",
              "Date:                Tue, 10 Nov 2020   Prob (F-statistic):           5.35e-05\n",
              "Time:                        10:09:42   Log-Likelihood:                -482.51\n",
              "No. Observations:                 160   AIC:                             969.0\n",
              "Df Residuals:                     158   BIC:                             975.2\n",
              "Df Model:                           1                                         \n",
              "Covariance Type:            nonrobust                                         \n",
              "==============================================================================\n",
              "                 coef    std err          t      P>|t|      [0.025      0.975]\n",
              "------------------------------------------------------------------------------\n",
              "const         12.6115      0.745     16.923      0.000      11.140      14.083\n",
              "Radio          0.1110      0.027      4.153      0.000       0.058       0.164\n",
              "==============================================================================\n",
              "Omnibus:                        7.114   Durbin-Watson:                   2.241\n",
              "Prob(Omnibus):                  0.029   Jarque-Bera (JB):                6.560\n",
              "Skew:                          -0.431   Prob(JB):                       0.0376\n",
              "Kurtosis:                       2.511   Cond. No.                         52.9\n",
              "==============================================================================\n",
              "\n",
              "Warnings:\n",
              "[1] Standard Errors assume that the covariance matrix of the errors is correctly specified.\n",
              "\"\"\""
            ]
          },
          "metadata": {
            "tags": []
          },
          "execution_count": 83
        }
      ]
    },
    {
      "cell_type": "markdown",
      "metadata": {
        "id": "3Ou3TUXBoiQp"
      },
      "source": [
        "#### statsmodels for Newspaper"
      ]
    },
    {
      "cell_type": "code",
      "metadata": {
        "id": "G33m9SIkokiX",
        "outputId": "77727ca6-c8dd-4287-86d9-68e3da43aea6",
        "colab": {
          "base_uri": "https://localhost:8080/",
          "height": 437
        }
      },
      "source": [
        "x=x_train['Newspaper']\n",
        "y=y_train\n",
        "sm.OLS(y,sm.add_constant(x)).fit().summary()"
      ],
      "execution_count": 114,
      "outputs": [
        {
          "output_type": "execute_result",
          "data": {
            "text/html": [
              "<table class=\"simpletable\">\n",
              "<caption>OLS Regression Results</caption>\n",
              "<tr>\n",
              "  <th>Dep. Variable:</th>          <td>Sales</td>      <th>  R-squared:         </th> <td>   0.037</td>\n",
              "</tr>\n",
              "<tr>\n",
              "  <th>Model:</th>                   <td>OLS</td>       <th>  Adj. R-squared:    </th> <td>   0.031</td>\n",
              "</tr>\n",
              "<tr>\n",
              "  <th>Method:</th>             <td>Least Squares</td>  <th>  F-statistic:       </th> <td>   6.124</td>\n",
              "</tr>\n",
              "<tr>\n",
              "  <th>Date:</th>             <td>Tue, 10 Nov 2020</td> <th>  Prob (F-statistic):</th>  <td>0.0144</td> \n",
              "</tr>\n",
              "<tr>\n",
              "  <th>Time:</th>                 <td>10:29:25</td>     <th>  Log-Likelihood:    </th> <td> -487.76</td>\n",
              "</tr>\n",
              "<tr>\n",
              "  <th>No. Observations:</th>      <td>   160</td>      <th>  AIC:               </th> <td>   979.5</td>\n",
              "</tr>\n",
              "<tr>\n",
              "  <th>Df Residuals:</th>          <td>   158</td>      <th>  BIC:               </th> <td>   985.7</td>\n",
              "</tr>\n",
              "<tr>\n",
              "  <th>Df Model:</th>              <td>     1</td>      <th>                     </th>     <td> </td>   \n",
              "</tr>\n",
              "<tr>\n",
              "  <th>Covariance Type:</th>      <td>nonrobust</td>    <th>                     </th>     <td> </td>   \n",
              "</tr>\n",
              "</table>\n",
              "<table class=\"simpletable\">\n",
              "<tr>\n",
              "      <td></td>         <th>coef</th>     <th>std err</th>      <th>t</th>      <th>P>|t|</th>  <th>[0.025</th>    <th>0.975]</th>  \n",
              "</tr>\n",
              "<tr>\n",
              "  <th>const</th>     <td>   13.7369</td> <td>    0.731</td> <td>   18.788</td> <td> 0.000</td> <td>   12.293</td> <td>   15.181</td>\n",
              "</tr>\n",
              "<tr>\n",
              "  <th>Newspaper</th> <td>    0.0491</td> <td>    0.020</td> <td>    2.475</td> <td> 0.014</td> <td>    0.010</td> <td>    0.088</td>\n",
              "</tr>\n",
              "</table>\n",
              "<table class=\"simpletable\">\n",
              "<tr>\n",
              "  <th>Omnibus:</th>       <td> 5.735</td> <th>  Durbin-Watson:     </th> <td>   2.205</td>\n",
              "</tr>\n",
              "<tr>\n",
              "  <th>Prob(Omnibus):</th> <td> 0.057</td> <th>  Jarque-Bera (JB):  </th> <td>   3.248</td>\n",
              "</tr>\n",
              "<tr>\n",
              "  <th>Skew:</th>          <td>-0.119</td> <th>  Prob(JB):          </th> <td>   0.197</td>\n",
              "</tr>\n",
              "<tr>\n",
              "  <th>Kurtosis:</th>      <td> 2.344</td> <th>  Cond. No.          </th> <td>    66.4</td>\n",
              "</tr>\n",
              "</table><br/><br/>Warnings:<br/>[1] Standard Errors assume that the covariance matrix of the errors is correctly specified."
            ],
            "text/plain": [
              "<class 'statsmodels.iolib.summary.Summary'>\n",
              "\"\"\"\n",
              "                            OLS Regression Results                            \n",
              "==============================================================================\n",
              "Dep. Variable:                  Sales   R-squared:                       0.037\n",
              "Model:                            OLS   Adj. R-squared:                  0.031\n",
              "Method:                 Least Squares   F-statistic:                     6.124\n",
              "Date:                Tue, 10 Nov 2020   Prob (F-statistic):             0.0144\n",
              "Time:                        10:29:25   Log-Likelihood:                -487.76\n",
              "No. Observations:                 160   AIC:                             979.5\n",
              "Df Residuals:                     158   BIC:                             985.7\n",
              "Df Model:                           1                                         \n",
              "Covariance Type:            nonrobust                                         \n",
              "==============================================================================\n",
              "                 coef    std err          t      P>|t|      [0.025      0.975]\n",
              "------------------------------------------------------------------------------\n",
              "const         13.7369      0.731     18.788      0.000      12.293      15.181\n",
              "Newspaper      0.0491      0.020      2.475      0.014       0.010       0.088\n",
              "==============================================================================\n",
              "Omnibus:                        5.735   Durbin-Watson:                   2.205\n",
              "Prob(Omnibus):                  0.057   Jarque-Bera (JB):                3.248\n",
              "Skew:                          -0.119   Prob(JB):                        0.197\n",
              "Kurtosis:                       2.344   Cond. No.                         66.4\n",
              "==============================================================================\n",
              "\n",
              "Warnings:\n",
              "[1] Standard Errors assume that the covariance matrix of the errors is correctly specified.\n",
              "\"\"\""
            ]
          },
          "metadata": {
            "tags": []
          },
          "execution_count": 114
        }
      ]
    },
    {
      "cell_type": "markdown",
      "metadata": {
        "id": "-2kZKrjWoqc5"
      },
      "source": [
        "#### observations:\n",
        "we can see only TV is significantly predicting the sales"
      ]
    },
    {
      "cell_type": "markdown",
      "metadata": {
        "id": "SPDDGdf1o376"
      },
      "source": [
        "### Residual Analysis"
      ]
    },
    {
      "cell_type": "code",
      "metadata": {
        "id": "AiW1nPwVomdI"
      },
      "source": [
        "y_train_pred=lin_tv.predict(x_train_sm)"
      ],
      "execution_count": 120,
      "outputs": []
    },
    {
      "cell_type": "code",
      "metadata": {
        "id": "ksFyRddHplAg"
      },
      "source": [
        "residual_error=y_train-y_train_pred"
      ],
      "execution_count": 121,
      "outputs": []
    },
    {
      "cell_type": "markdown",
      "metadata": {
        "id": "vrfrqqnnqbLu"
      },
      "source": [
        "### checking the assumptions\n",
        "\n",
        "\n",
        "1.   residual errors are normally distributed\n",
        "2.   errors are independent to each other\n",
        "\n"
      ]
    },
    {
      "cell_type": "code",
      "metadata": {
        "id": "UAWHTpwbqD8r",
        "outputId": "702bd00c-fee9-40f9-c3f2-dd1669eddea6",
        "colab": {
          "base_uri": "https://localhost:8080/",
          "height": 319
        }
      },
      "source": [
        "sns.distplot(residual_error);"
      ],
      "execution_count": 122,
      "outputs": [
        {
          "output_type": "stream",
          "text": [
            "/usr/local/lib/python3.6/dist-packages/seaborn/distributions.py:2551: FutureWarning: `distplot` is a deprecated function and will be removed in a future version. Please adapt your code to use either `displot` (a figure-level function with similar flexibility) or `histplot` (an axes-level function for histograms).\n",
            "  warnings.warn(msg, FutureWarning)\n"
          ],
          "name": "stderr"
        },
        {
          "output_type": "display_data",
          "data": {
            "image/png": "[encoded data removed]",
            "text/plain": [
              "<Figure size 432x288 with 1 Axes>"
            ]
          },
          "metadata": {
            "tags": [],
            "needs_background": "light"
          }
        }
      ]
    },
    {
      "cell_type": "code",
      "metadata": {
        "id": "3df8xCjMqG0Z",
        "outputId": "8ace53aa-1831-4a99-fe14-8ea3ae43e3be",
        "colab": {
          "base_uri": "https://localhost:8080/",
          "height": 351
        }
      },
      "source": [
        "sns.residplot(y_train,y_train_pred)"
      ],
      "execution_count": 125,
      "outputs": [
        {
          "output_type": "stream",
          "text": [
            "/usr/local/lib/python3.6/dist-packages/seaborn/_decorators.py:43: FutureWarning: Pass the following variables as keyword args: x, y. From version 0.12, the only valid positional argument will be `data`, and passing other arguments without an explicit keyword will result in an error or misinterpretation.\n",
            "  FutureWarning\n"
          ],
          "name": "stderr"
        },
        {
          "output_type": "execute_result",
          "data": {
            "text/plain": [
              "<matplotlib.axes._subplots.AxesSubplot at 0x7fc4fa892080>"
            ]
          },
          "metadata": {
            "tags": []
          },
          "execution_count": 125
        },
        {
          "output_type": "display_data",
          "data": {
            "image/png": "[encoded data removed]",
            "text/plain": [
              "<Figure size 432x288 with 1 Axes>"
            ]
          },
          "metadata": {
            "tags": [],
            "needs_background": "light"
          }
        }
      ]
    },
    {
      "cell_type": "markdown",
      "metadata": {
        "id": "Hn6hhw4LrSe9"
      },
      "source": [
        "## Evaluation on Test Dataset"
      ]
    },
    {
      "cell_type": "code",
      "metadata": {
        "id": "ImXdesu2rWZB"
      },
      "source": [
        "x_test_sm=sm.add_constant(x_test['TV'])\n",
        "y_test_pred=lin_tv.predict(x_test_sm)"
      ],
      "execution_count": 127,
      "outputs": []
    },
    {
      "cell_type": "code",
      "metadata": {
        "id": "2me94dGQriur",
        "outputId": "314936a2-ded7-4efb-f151-a76945ca35c0",
        "colab": {
          "base_uri": "https://localhost:8080/"
        }
      },
      "source": [
        "r2_score(y_test,y_test_pred)"
      ],
      "execution_count": 128,
      "outputs": [
        {
          "output_type": "execute_result",
          "data": {
            "text/plain": [
              "0.861922219696262"
            ]
          },
          "metadata": {
            "tags": []
          },
          "execution_count": 128
        }
      ]
    },
    {
      "cell_type": "code",
      "metadata": {
        "id": "_WBxiOlzr2AJ",
        "outputId": "5c47fe96-6c3e-4230-cd82-d6682a7a10ef",
        "colab": {
          "base_uri": "https://localhost:8080/"
        }
      },
      "source": [
        "r2_score(y_train,y_train_pred)"
      ],
      "execution_count": 126,
      "outputs": [
        {
          "output_type": "execute_result",
          "data": {
            "text/plain": [
              "0.7976310037001155"
            ]
          },
          "metadata": {
            "tags": []
          },
          "execution_count": 126
        }
      ]
    },
    {
      "cell_type": "markdown",
      "metadata": {
        "id": "AARDTkbkt3qM"
      },
      "source": [
        "overall, model fit seems to be doing a good job"
      ]
    },
    {
      "cell_type": "code",
      "metadata": {
        "id": "8M82mywIslXp",
        "outputId": "32c17b47-5f7b-4a19-dc32-9651de9853dd",
        "colab": {
          "base_uri": "https://localhost:8080/"
        }
      },
      "source": [
        "mean_absolute_error(y_test,y_test_pred)"
      ],
      "execution_count": 134,
      "outputs": [
        {
          "output_type": "execute_result",
          "data": {
            "text/plain": [
              "1.637338176006449"
            ]
          },
          "metadata": {
            "tags": []
          },
          "execution_count": 134
        }
      ]
    },
    {
      "cell_type": "code",
      "metadata": {
        "id": "7nLGSWLAwZic",
        "outputId": "61de7f68-c89c-467d-8c8b-ebdc71f80abb",
        "colab": {
          "base_uri": "https://localhost:8080/"
        }
      },
      "source": [
        "mean_squared_error(y_test,y_test_pred)"
      ],
      "execution_count": 135,
      "outputs": [
        {
          "output_type": "execute_result",
          "data": {
            "text/plain": [
              "4.213274320687691"
            ]
          },
          "metadata": {
            "tags": []
          },
          "execution_count": 135
        }
      ]
    },
    {
      "cell_type": "code",
      "metadata": {
        "id": "JgBZATi6wcic",
        "outputId": "777c7158-9fb5-4b2f-ad46-f23db36241b7",
        "colab": {
          "base_uri": "https://localhost:8080/",
          "height": 349
        }
      },
      "source": [
        "sns.scatterplot(x_train['TV'],y_train)\n",
        "plt.plot(x_train['TV'],y_train_pred,color='r')\n",
        "plt.title('Simple Linear Regression by using Statsmodels')\n",
        "plt.show()"
      ],
      "execution_count": 170,
      "outputs": [
        {
          "output_type": "stream",
          "text": [
            "/usr/local/lib/python3.6/dist-packages/seaborn/_decorators.py:43: FutureWarning: Pass the following variables as keyword args: x, y. From version 0.12, the only valid positional argument will be `data`, and passing other arguments without an explicit keyword will result in an error or misinterpretation.\n",
            "  FutureWarning\n"
          ],
          "name": "stderr"
        },
        {
          "output_type": "display_data",
          "data": {
            "image/png": "[encoded data removed]",
            "text/plain": [
              "<Figure size 432x288 with 1 Axes>"
            ]
          },
          "metadata": {
            "tags": [],
            "needs_background": "light"
          }
        }
      ]
    },
    {
      "cell_type": "markdown",
      "metadata": {
        "id": "APYnfS9N0qY6"
      },
      "source": [
        "### by using Sklearn (scikit learn)"
      ]
    },
    {
      "cell_type": "code",
      "metadata": {
        "id": "Erjwo34ixbge",
        "outputId": "fefe207f-696a-4a68-edf0-02c1ffc24332",
        "colab": {
          "base_uri": "https://localhost:8080/"
        }
      },
      "source": [
        "x_train.shape,x_test.shape,y_train.shape,y_test.shape"
      ],
      "execution_count": 144,
      "outputs": [
        {
          "output_type": "execute_result",
          "data": {
            "text/plain": [
              "((160, 3), (40, 3), (160,), (40,))"
            ]
          },
          "metadata": {
            "tags": []
          },
          "execution_count": 144
        }
      ]
    },
    {
      "cell_type": "code",
      "metadata": {
        "id": "F3JvhfMY1Dh8"
      },
      "source": [
        "linear_reg_sk=LinearRegression()"
      ],
      "execution_count": 145,
      "outputs": []
    },
    {
      "cell_type": "code",
      "metadata": {
        "id": "2319hZ-c1O82",
        "outputId": "08f6f1cd-d190-4763-a98b-b8b8a9222134",
        "colab": {
          "base_uri": "https://localhost:8080/"
        }
      },
      "source": [
        "linear_reg_sk.fit(x_train['TV'].values.reshape(-1,1),y_train)"
      ],
      "execution_count": 153,
      "outputs": [
        {
          "output_type": "execute_result",
          "data": {
            "text/plain": [
              "LinearRegression(copy_X=True, fit_intercept=True, n_jobs=None, normalize=False)"
            ]
          },
          "metadata": {
            "tags": []
          },
          "execution_count": 153
        }
      ]
    },
    {
      "cell_type": "code",
      "metadata": {
        "id": "DnUj0U521Q8b",
        "outputId": "8e50edeb-eddd-4975-b5f3-f82ff1a41266",
        "colab": {
          "base_uri": "https://localhost:8080/"
        }
      },
      "source": [
        "linear_reg_sk.predict(x_test['TV'].values.reshape(-1,1))"
      ],
      "execution_count": 156,
      "outputs": [
        {
          "output_type": "execute_result",
          "data": {
            "text/plain": [
              "array([22.18396193,  8.61181997, 10.7326402 , 13.27983942, 20.32339902,\n",
              "       16.08175857,  8.51214696, 11.18670615, 23.28590247, 11.46911302,\n",
              "       12.03392676,  9.21539544, 14.94105631, 19.34328106, 20.78300236,\n",
              "       13.72836798,  8.06915579, 12.32740841, 18.091831  , 10.81570104,\n",
              "       19.03318724, 20.9214371 ,  8.11345491, 22.77092523, 11.85673029,\n",
              "        7.75352458, 14.74171028, 11.16455659, 23.44094938, 19.43187929,\n",
              "        7.75906197, 18.69540647, 17.26675995, 19.22699588, 10.86000016,\n",
              "       10.68834108, 19.73643572,  7.25515951, 18.48498567, 21.17061963])"
            ]
          },
          "metadata": {
            "tags": []
          },
          "execution_count": 156
        }
      ]
    },
    {
      "cell_type": "code",
      "metadata": {
        "id": "ehTXEyaE1fbz",
        "outputId": "675dfdb9-a6d4-4caf-bfa5-ae626dcd740f",
        "colab": {
          "base_uri": "https://localhost:8080/"
        }
      },
      "source": [
        "linear_reg_sk.intercept_"
      ],
      "execution_count": 158,
      "outputs": [
        {
          "output_type": "execute_result",
          "data": {
            "text/plain": [
              "7.028126539286799"
            ]
          },
          "metadata": {
            "tags": []
          },
          "execution_count": 158
        }
      ]
    },
    {
      "cell_type": "code",
      "metadata": {
        "id": "7MK4S0DD1T-s",
        "outputId": "100a0374-4f8c-47f6-89fa-720d5eda1498",
        "colab": {
          "base_uri": "https://localhost:8080/"
        }
      },
      "source": [
        "linear_reg_sk.coef_"
      ],
      "execution_count": 157,
      "outputs": [
        {
          "output_type": "execute_result",
          "data": {
            "text/plain": [
              "array([0.0553739])"
            ]
          },
          "metadata": {
            "tags": []
          },
          "execution_count": 157
        }
      ]
    },
    {
      "cell_type": "markdown",
      "metadata": {
        "id": "q2-OTPEk15G-"
      },
      "source": [
        "Intercept & coefficient values are exactly matching with statsmodels for TV"
      ]
    },
    {
      "cell_type": "code",
      "metadata": {
        "id": "_lL4WuUc2G9Y"
      },
      "source": [
        "y_train_pred_sk=linear_reg_sk.predict(x_train['TV'].values.reshape(-1,1))\n",
        "y_test_pred_sk=linear_reg_sk.predict(x_test['TV'].values.reshape(-1,1))"
      ],
      "execution_count": 160,
      "outputs": []
    },
    {
      "cell_type": "code",
      "metadata": {
        "id": "NAgzJMP-2Z8D",
        "outputId": "5c8274d8-833d-4b73-c4e3-66b4c8b74515",
        "colab": {
          "base_uri": "https://localhost:8080/"
        }
      },
      "source": [
        "r2_score(y_train,y_train_pred_sk)"
      ],
      "execution_count": 161,
      "outputs": [
        {
          "output_type": "execute_result",
          "data": {
            "text/plain": [
              "0.7976310037001155"
            ]
          },
          "metadata": {
            "tags": []
          },
          "execution_count": 161
        }
      ]
    },
    {
      "cell_type": "code",
      "metadata": {
        "id": "XtJ7rNDb2e0R",
        "outputId": "6d67df3e-84a8-48cb-bce7-d909391bec7d",
        "colab": {
          "base_uri": "https://localhost:8080/"
        }
      },
      "source": [
        "r2_score(y_test,y_test_pred_sk)"
      ],
      "execution_count": 162,
      "outputs": [
        {
          "output_type": "execute_result",
          "data": {
            "text/plain": [
              "0.8619222196962619"
            ]
          },
          "metadata": {
            "tags": []
          },
          "execution_count": 162
        }
      ]
    },
    {
      "cell_type": "code",
      "metadata": {
        "id": "vu9J-3lK2oOh",
        "outputId": "a16b760c-07f2-4598-8204-1312cba80710",
        "colab": {
          "base_uri": "https://localhost:8080/",
          "height": 349
        }
      },
      "source": [
        "sns.scatterplot(x_train['TV'],y_train)\n",
        "plt.plot(x_train['TV'],y_train_pred_sk,color='r')\n",
        "plt.title('Simple Liner Regression fit using SKlearn')\n",
        "plt.show()"
      ],
      "execution_count": 165,
      "outputs": [
        {
          "output_type": "stream",
          "text": [
            "/usr/local/lib/python3.6/dist-packages/seaborn/_decorators.py:43: FutureWarning: Pass the following variables as keyword args: x, y. From version 0.12, the only valid positional argument will be `data`, and passing other arguments without an explicit keyword will result in an error or misinterpretation.\n",
            "  FutureWarning\n"
          ],
          "name": "stderr"
        },
        {
          "output_type": "display_data",
          "data": {
            "image/png": "[encoded data removed]",
            "text/plain": [
              "<Figure size 432x288 with 1 Axes>"
            ]
          },
          "metadata": {
            "tags": [],
            "needs_background": "light"
          }
        }
      ]
    }
  ]
}